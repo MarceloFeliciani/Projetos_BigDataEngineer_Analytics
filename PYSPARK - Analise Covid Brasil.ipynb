{
 "cells": [
  {
   "cell_type": "markdown",
   "metadata": {},
   "source": [
    "## BIG DATA ENGINEER SEMANTIX\n",
    "### Projeto Final - Corona Vírus no Brasil\n",
    "Fonte dos Dados: https://mobileapps.saude.gov.br/esusvepi/files/unAFkcaNDeXajurGB7LChj8SgQYS2ptm/04bd3419b22b9cc5c6efac2c6528100d_HIST_PAINEL_COVIDBR_06jul2021.rar"
   ]
  },
  {
   "cell_type": "markdown",
   "metadata": {},
   "source": [
    "- Utilização do SPARK, HDFS, Hive, Python"
   ]
  },
  {
   "cell_type": "markdown",
   "metadata": {},
   "source": [
    "### EXERCÍCIOS\n",
    "### 01 - Dados enviados para o HDFS"
   ]
  },
  {
   "cell_type": "code",
   "execution_count": 2,
   "metadata": {},
   "outputs": [
    {
     "name": "stdout",
     "output_type": "stream",
     "text": [
      "Found 4 items\r\n",
      "-rw-r--r--   3 root supergroup   62492959 2021-07-15 23:46 /user/feliciani/covid/COVIDBR_2020_Parte1_06jul2021.csv\r\n",
      "-rw-r--r--   3 root supergroup   76520681 2021-07-15 23:48 /user/feliciani/covid/COVIDBR_2020_Parte2_06jul2021.csv\r\n",
      "-rw-r--r--   3 root supergroup   91120916 2021-07-15 23:51 /user/feliciani/covid/COVIDBR_2021_Parte1_06jul2021.csv\r\n",
      "-rw-r--r--   3 root supergroup    3046774 2021-07-15 23:51 /user/feliciani/covid/COVIDBR_2021_Parte2_06jul2021.csv\r\n"
     ]
    }
   ],
   "source": [
    "# listando os arquivos no HDFS\n",
    "\n",
    "!hdfs dfs -ls /user/feliciani/covid"
   ]
  },
  {
   "cell_type": "code",
   "execution_count": 3,
   "metadata": {},
   "outputs": [
    {
     "data": {
      "text/html": [
       "\n",
       "            <div>\n",
       "                <p><b>SparkSession - hive</b></p>\n",
       "                \n",
       "        <div>\n",
       "            <p><b>SparkContext</b></p>\n",
       "\n",
       "            <p><a href=\"http://jupyter-spark:4041\">Spark UI</a></p>\n",
       "\n",
       "            <dl>\n",
       "              <dt>Version</dt>\n",
       "                <dd><code>v2.4.1</code></dd>\n",
       "              <dt>Master</dt>\n",
       "                <dd><code>local[*]</code></dd>\n",
       "              <dt>AppName</dt>\n",
       "                <dd><code>pyspark-shell</code></dd>\n",
       "            </dl>\n",
       "        </div>\n",
       "        \n",
       "            </div>\n",
       "        "
      ],
      "text/plain": [
       "<pyspark.sql.session.SparkSession at 0x7fc1ce6619b0>"
      ]
     },
     "execution_count": 3,
     "metadata": {},
     "output_type": "execute_result"
    }
   ],
   "source": [
    "spark"
   ]
  },
  {
   "cell_type": "code",
   "execution_count": 4,
   "metadata": {},
   "outputs": [
    {
     "data": {
      "text/html": [
       "\n",
       "        <div>\n",
       "            <p><b>SparkContext</b></p>\n",
       "\n",
       "            <p><a href=\"http://jupyter-spark:4041\">Spark UI</a></p>\n",
       "\n",
       "            <dl>\n",
       "              <dt>Version</dt>\n",
       "                <dd><code>v2.4.1</code></dd>\n",
       "              <dt>Master</dt>\n",
       "                <dd><code>local[*]</code></dd>\n",
       "              <dt>AppName</dt>\n",
       "                <dd><code>pyspark-shell</code></dd>\n",
       "            </dl>\n",
       "        </div>\n",
       "        "
      ],
      "text/plain": [
       "<SparkContext master=local[*] appName=pyspark-shell>"
      ]
     },
     "execution_count": 4,
     "metadata": {},
     "output_type": "execute_result"
    }
   ],
   "source": [
    "sc"
   ]
  },
  {
   "cell_type": "code",
   "execution_count": 2,
   "metadata": {},
   "outputs": [],
   "source": [
    "from pyspark.sql.functions import *\n",
    "from pyspark.sql.types import *\n",
    "from pyspark import SparkContext\n",
    "from pyspark.streaming import StreamingContext\n",
    "from pyspark.streaming.kafka import *"
   ]
  },
  {
   "cell_type": "code",
   "execution_count": 3,
   "metadata": {},
   "outputs": [],
   "source": [
    "# setando os logs para INFO\n",
    "spark.sparkContext.setLogLevel(\"INFO\")"
   ]
  },
  {
   "cell_type": "code",
   "execution_count": 29,
   "metadata": {},
   "outputs": [],
   "source": [
    "# Lendo os 4 arquivos CSV, com separador e cabeçalho\n",
    "covid_df = spark.read.csv(\"/user/feliciani/covid/\", sep=\";\", header=\"true\")"
   ]
  },
  {
   "cell_type": "code",
   "execution_count": 30,
   "metadata": {},
   "outputs": [
    {
     "data": {
      "text/plain": [
       "pyspark.sql.dataframe.DataFrame"
      ]
     },
     "execution_count": 30,
     "metadata": {},
     "output_type": "execute_result"
    }
   ],
   "source": [
    "# Trabalhando com DataFrame\n",
    "type(covid_df)"
   ]
  },
  {
   "cell_type": "code",
   "execution_count": 31,
   "metadata": {},
   "outputs": [
    {
     "name": "stdout",
     "output_type": "stream",
     "text": [
      "+------+------+---------+-----+------+--------------+---------------+----------+---------+----------------+--------------+----------+---------------+-----------+----------------+---------------------+----------------------+\n",
      "|regiao|estado|municipio|coduf|codmun|codRegiaoSaude|nomeRegiaoSaude|      data|semanaEpi|populacaoTCU2019|casosAcumulado|casosNovos|obitosAcumulado|obitosNovos|Recuperadosnovos|emAcompanhamentoNovos|interior/metropolitana|\n",
      "+------+------+---------+-----+------+--------------+---------------+----------+---------+----------------+--------------+----------+---------------+-----------+----------------+---------------------+----------------------+\n",
      "|Brasil|  null|     null|   76|  null|          null|           null|2020-02-25|        9|       210147125|             0|         0|              0|          0|            null|                 null|                  null|\n",
      "|Brasil|  null|     null|   76|  null|          null|           null|2020-02-26|        9|       210147125|             1|         1|              0|          0|            null|                 null|                  null|\n",
      "|Brasil|  null|     null|   76|  null|          null|           null|2020-02-27|        9|       210147125|             1|         0|              0|          0|            null|                 null|                  null|\n",
      "|Brasil|  null|     null|   76|  null|          null|           null|2020-02-28|        9|       210147125|             1|         0|              0|          0|            null|                 null|                  null|\n",
      "|Brasil|  null|     null|   76|  null|          null|           null|2020-02-29|        9|       210147125|             2|         1|              0|          0|            null|                 null|                  null|\n",
      "|Brasil|  null|     null|   76|  null|          null|           null|2020-03-01|       10|       210147125|             2|         0|              0|          0|            null|                 null|                  null|\n",
      "|Brasil|  null|     null|   76|  null|          null|           null|2020-03-02|       10|       210147125|             2|         0|              0|          0|            null|                 null|                  null|\n",
      "|Brasil|  null|     null|   76|  null|          null|           null|2020-03-03|       10|       210147125|             2|         0|              0|          0|            null|                 null|                  null|\n",
      "|Brasil|  null|     null|   76|  null|          null|           null|2020-03-04|       10|       210147125|             3|         1|              0|          0|            null|                 null|                  null|\n",
      "|Brasil|  null|     null|   76|  null|          null|           null|2020-03-05|       10|       210147125|             7|         4|              0|          0|            null|                 null|                  null|\n",
      "+------+------+---------+-----+------+--------------+---------------+----------+---------+----------------+--------------+----------+---------------+-----------+----------------+---------------------+----------------------+\n",
      "only showing top 10 rows\n",
      "\n"
     ]
    }
   ],
   "source": [
    "covid_df.show(10)"
   ]
  },
  {
   "cell_type": "code",
   "execution_count": 32,
   "metadata": {},
   "outputs": [
    {
     "name": "stdout",
     "output_type": "stream",
     "text": [
      "root\n",
      " |-- regiao: string (nullable = true)\n",
      " |-- estado: string (nullable = true)\n",
      " |-- municipio: string (nullable = true)\n",
      " |-- coduf: string (nullable = true)\n",
      " |-- codmun: string (nullable = true)\n",
      " |-- codRegiaoSaude: string (nullable = true)\n",
      " |-- nomeRegiaoSaude: string (nullable = true)\n",
      " |-- data: string (nullable = true)\n",
      " |-- semanaEpi: string (nullable = true)\n",
      " |-- populacaoTCU2019: string (nullable = true)\n",
      " |-- casosAcumulado: string (nullable = true)\n",
      " |-- casosNovos: string (nullable = true)\n",
      " |-- obitosAcumulado: string (nullable = true)\n",
      " |-- obitosNovos: string (nullable = true)\n",
      " |-- Recuperadosnovos: string (nullable = true)\n",
      " |-- emAcompanhamentoNovos: string (nullable = true)\n",
      " |-- interior/metropolitana: string (nullable = true)\n",
      "\n"
     ]
    }
   ],
   "source": [
    "# Schema do DataFrame\n",
    "covid_df.printSchema()"
   ]
  },
  {
   "cell_type": "code",
   "execution_count": 33,
   "metadata": {},
   "outputs": [
    {
     "data": {
      "text/plain": [
       "2624943"
      ]
     },
     "execution_count": 33,
     "metadata": {},
     "output_type": "execute_result"
    }
   ],
   "source": [
    "# Total de linhas do DataFrame\n",
    "covid_df.count()"
   ]
  },
  {
   "cell_type": "code",
   "execution_count": 34,
   "metadata": {},
   "outputs": [
    {
     "data": {
      "text/plain": [
       "[Database(name='default', description='Default Hive database', locationUri='hdfs://namenode:8020/user/hive/warehouse')]"
      ]
     },
     "execution_count": 34,
     "metadata": {},
     "output_type": "execute_result"
    }
   ],
   "source": [
    "# listando as bases de dados\n",
    "spark.catalog.listDatabases()"
   ]
  },
  {
   "cell_type": "code",
   "execution_count": 35,
   "metadata": {},
   "outputs": [
    {
     "name": "stdout",
     "output_type": "stream",
     "text": [
      "Found 1 items\r\n",
      "drwxr-xr-x   - root supergroup          0 2021-07-09 17:50 /user/hive/warehouse/juros\r\n"
     ]
    }
   ],
   "source": [
    "# local para armazenar os dados\n",
    "!hdfs dfs -ls /user/hive/warehouse/"
   ]
  },
  {
   "cell_type": "markdown",
   "metadata": {},
   "source": [
    "### 02 - Salvando os dados do DataFrame numa Tabela Hive com compressão e organizados em partições por municípios"
   ]
  },
  {
   "cell_type": "code",
   "execution_count": 36,
   "metadata": {},
   "outputs": [],
   "source": [
    "covid_df.write.parquet(\"/user/hive/warehouse/covid_df/\", mode=\"overwrite\")"
   ]
  },
  {
   "cell_type": "code",
   "execution_count": 37,
   "metadata": {},
   "outputs": [
    {
     "name": "stdout",
     "output_type": "stream",
     "text": [
      "Found 5 items\r\n",
      "-rw-r--r--   2 root supergroup          0 2021-07-16 14:08 /user/hive/warehouse/covid_df/_SUCCESS\r\n",
      "-rw-r--r--   2 root supergroup    1397966 2021-07-16 14:08 /user/hive/warehouse/covid_df/part-00000-e23dd73b-6ebe-48d0-89ec-199a669a4fda-c000.snappy.parquet\r\n",
      "-rw-r--r--   2 root supergroup    2212384 2021-07-16 14:08 /user/hive/warehouse/covid_df/part-00001-e23dd73b-6ebe-48d0-89ec-199a669a4fda-c000.snappy.parquet\r\n",
      "-rw-r--r--   2 root supergroup    2762691 2021-07-16 14:08 /user/hive/warehouse/covid_df/part-00002-e23dd73b-6ebe-48d0-89ec-199a669a4fda-c000.snappy.parquet\r\n",
      "-rw-r--r--   2 root supergroup    2176695 2021-07-16 14:08 /user/hive/warehouse/covid_df/part-00003-e23dd73b-6ebe-48d0-89ec-199a669a4fda-c000.snappy.parquet\r\n"
     ]
    }
   ],
   "source": [
    "# Foi salvo no HDFS todo conteúdo dos arquivos CSV\n",
    "!hdfs dfs -ls /user/hive/warehouse/covid_df/"
   ]
  },
  {
   "cell_type": "code",
   "execution_count": 39,
   "metadata": {},
   "outputs": [],
   "source": [
    "# criando um dataFrame com as colunas necessárias\n",
    "covid_df.createOrReplaceTempView(\"covid_table\")"
   ]
  },
  {
   "cell_type": "code",
   "execution_count": 41,
   "metadata": {},
   "outputs": [],
   "source": [
    "covid_brasil_df = spark.sql(\"select regiao, data, populacaoTCU2019, casosAcumulado, casosNovos, obitosAcumulado, obitosNovos, Recuperadosnovos, emAcompanhamentoNovos from covid_table\")"
   ]
  },
  {
   "cell_type": "code",
   "execution_count": 42,
   "metadata": {},
   "outputs": [
    {
     "data": {
      "text/plain": [
       "pyspark.sql.dataframe.DataFrame"
      ]
     },
     "execution_count": 42,
     "metadata": {},
     "output_type": "execute_result"
    }
   ],
   "source": [
    "type(covid_brasil_df)"
   ]
  },
  {
   "cell_type": "code",
   "execution_count": 43,
   "metadata": {},
   "outputs": [
    {
     "name": "stdout",
     "output_type": "stream",
     "text": [
      "+------+----------+----------------+--------------+----------+---------------+-----------+----------------+---------------------+\n",
      "|regiao|      data|populacaoTCU2019|casosAcumulado|casosNovos|obitosAcumulado|obitosNovos|Recuperadosnovos|emAcompanhamentoNovos|\n",
      "+------+----------+----------------+--------------+----------+---------------+-----------+----------------+---------------------+\n",
      "|Brasil|2020-02-25|       210147125|             0|         0|              0|          0|            null|                 null|\n",
      "|Brasil|2020-02-26|       210147125|             1|         1|              0|          0|            null|                 null|\n",
      "|Brasil|2020-02-27|       210147125|             1|         0|              0|          0|            null|                 null|\n",
      "|Brasil|2020-02-28|       210147125|             1|         0|              0|          0|            null|                 null|\n",
      "|Brasil|2020-02-29|       210147125|             2|         1|              0|          0|            null|                 null|\n",
      "|Brasil|2020-03-01|       210147125|             2|         0|              0|          0|            null|                 null|\n",
      "|Brasil|2020-03-02|       210147125|             2|         0|              0|          0|            null|                 null|\n",
      "|Brasil|2020-03-03|       210147125|             2|         0|              0|          0|            null|                 null|\n",
      "|Brasil|2020-03-04|       210147125|             3|         1|              0|          0|            null|                 null|\n",
      "|Brasil|2020-03-05|       210147125|             7|         4|              0|          0|            null|                 null|\n",
      "+------+----------+----------------+--------------+----------+---------------+-----------+----------------+---------------------+\n",
      "only showing top 10 rows\n",
      "\n"
     ]
    }
   ],
   "source": [
    "covid_brasil_df.show(10)"
   ]
  },
  {
   "cell_type": "code",
   "execution_count": 44,
   "metadata": {},
   "outputs": [
    {
     "name": "stdout",
     "output_type": "stream",
     "text": [
      "root\n",
      " |-- regiao: string (nullable = true)\n",
      " |-- data: string (nullable = true)\n",
      " |-- populacaoTCU2019: string (nullable = true)\n",
      " |-- casosAcumulado: string (nullable = true)\n",
      " |-- casosNovos: string (nullable = true)\n",
      " |-- obitosAcumulado: string (nullable = true)\n",
      " |-- obitosNovos: string (nullable = true)\n",
      " |-- Recuperadosnovos: string (nullable = true)\n",
      " |-- emAcompanhamentoNovos: string (nullable = true)\n",
      "\n"
     ]
    }
   ],
   "source": [
    "# os dados estão como string\n",
    "covid_brasil_df.printSchema()"
   ]
  },
  {
   "cell_type": "code",
   "execution_count": 46,
   "metadata": {},
   "outputs": [],
   "source": [
    "# ajustando a tipagem dos dados\n",
    "# realizado cálculo para descobrir a incidência, mortalidade e letalidade\n",
    "\n",
    "total_covid_brasil_df = covid_brasil_df.withColumn(\"populacaoTCU2019\",col(\"populacaoTCU2019\").cast(LongType())) \\\n",
    "    .withColumn(\"data\",col(\"data\").cast(DateType())) \\\n",
    "    .withColumn(\"casosAcumulado\",col(\"casosAcumulado\").cast(LongType())) \\\n",
    "    .withColumn(\"casosNovos\",col(\"casosNovos\").cast(LongType())) \\\n",
    "    .withColumn(\"obitosAcumulado\",col(\"obitosAcumulado\").cast(LongType())) \\\n",
    "    .withColumn(\"Recuperadosnovos\",col(\"Recuperadosnovos\").cast(LongType())) \\\n",
    "    .withColumn(\"obitosNovos\",col(\"obitosNovos\").cast(LongType())) \\\n",
    "    .withColumn(\"emAcompanhamentoNovos\",col(\"emAcompanhamentoNovos\").cast(LongType())) \\\n",
    "    .withColumn(\"incidencia\", format_number((col(\"casosAcumulado\") / col(\"populacaoTCU2019\") * 100000),1)) \\\n",
    "    .withColumn(\"mortalidade\", format_number((col(\"obitosAcumulado\") / col(\"populacaoTCU2019\") * 100000),1).cast(FloatType())) \\\n",
    "    .withColumn(\"letalidade\", format_number((col(\"obitosAcumulado\") / col(\"casosAcumulado\") * 100),1).cast(FloatType())) \\\n",
    "    .withColumn('incidencia', regexp_replace(col(\"incidencia\"),\",\",\"\"))\n"
   ]
  },
  {
   "cell_type": "code",
   "execution_count": 48,
   "metadata": {},
   "outputs": [],
   "source": [
    "# Ajustando o tipo de dado da coluna Incidência\n",
    "total_covid_df = total_covid_brasil_df.withColumn(\"incidencia\", total_covid_brasil_df[\"incidencia\"].cast(FloatType()))"
   ]
  },
  {
   "cell_type": "code",
   "execution_count": 49,
   "metadata": {},
   "outputs": [
    {
     "name": "stdout",
     "output_type": "stream",
     "text": [
      "root\n",
      " |-- regiao: string (nullable = true)\n",
      " |-- data: date (nullable = true)\n",
      " |-- populacaoTCU2019: long (nullable = true)\n",
      " |-- casosAcumulado: long (nullable = true)\n",
      " |-- casosNovos: long (nullable = true)\n",
      " |-- obitosAcumulado: long (nullable = true)\n",
      " |-- obitosNovos: long (nullable = true)\n",
      " |-- Recuperadosnovos: long (nullable = true)\n",
      " |-- emAcompanhamentoNovos: long (nullable = true)\n",
      " |-- incidencia: float (nullable = true)\n",
      " |-- mortalidade: float (nullable = true)\n",
      " |-- letalidade: float (nullable = true)\n",
      "\n"
     ]
    }
   ],
   "source": [
    "total_covid_df.printSchema()"
   ]
  },
  {
   "cell_type": "code",
   "execution_count": 50,
   "metadata": {},
   "outputs": [
    {
     "name": "stdout",
     "output_type": "stream",
     "text": [
      "+------+----------+----------------+--------------+----------+---------------+-----------+----------------+---------------------+----------+-----------+----------+\n",
      "|regiao|      data|populacaoTCU2019|casosAcumulado|casosNovos|obitosAcumulado|obitosNovos|Recuperadosnovos|emAcompanhamentoNovos|incidencia|mortalidade|letalidade|\n",
      "+------+----------+----------------+--------------+----------+---------------+-----------+----------------+---------------------+----------+-----------+----------+\n",
      "|Brasil|2020-02-25|       210147125|             0|         0|              0|          0|            null|                 null|       0.0|        0.0|      null|\n",
      "|Brasil|2020-02-26|       210147125|             1|         1|              0|          0|            null|                 null|       0.0|        0.0|       0.0|\n",
      "|Brasil|2020-02-27|       210147125|             1|         0|              0|          0|            null|                 null|       0.0|        0.0|       0.0|\n",
      "|Brasil|2020-02-28|       210147125|             1|         0|              0|          0|            null|                 null|       0.0|        0.0|       0.0|\n",
      "|Brasil|2020-02-29|       210147125|             2|         1|              0|          0|            null|                 null|       0.0|        0.0|       0.0|\n",
      "|Brasil|2020-03-01|       210147125|             2|         0|              0|          0|            null|                 null|       0.0|        0.0|       0.0|\n",
      "|Brasil|2020-03-02|       210147125|             2|         0|              0|          0|            null|                 null|       0.0|        0.0|       0.0|\n",
      "|Brasil|2020-03-03|       210147125|             2|         0|              0|          0|            null|                 null|       0.0|        0.0|       0.0|\n",
      "|Brasil|2020-03-04|       210147125|             3|         1|              0|          0|            null|                 null|       0.0|        0.0|       0.0|\n",
      "|Brasil|2020-03-05|       210147125|             7|         4|              0|          0|            null|                 null|       0.0|        0.0|       0.0|\n",
      "+------+----------+----------------+--------------+----------+---------------+-----------+----------------+---------------------+----------+-----------+----------+\n",
      "only showing top 10 rows\n",
      "\n"
     ]
    }
   ],
   "source": [
    "total_covid_df.show(10)"
   ]
  },
  {
   "cell_type": "code",
   "execution_count": 51,
   "metadata": {},
   "outputs": [],
   "source": [
    "# salvando no HDFS\n",
    "total_covid_df.write.saveAsTable(\"covid_total\", mode=\"overwrite\")"
   ]
  },
  {
   "cell_type": "code",
   "execution_count": 52,
   "metadata": {},
   "outputs": [
    {
     "name": "stdout",
     "output_type": "stream",
     "text": [
      "Found 3 items\r\n",
      "drwxr-xr-x   - root supergroup          0 2021-07-16 14:08 /user/hive/warehouse/covid_df\r\n",
      "drwxr-xr-x   - root supergroup          0 2021-07-16 14:48 /user/hive/warehouse/covid_total\r\n",
      "drwxr-xr-x   - root supergroup          0 2021-07-09 17:50 /user/hive/warehouse/juros\r\n"
     ]
    }
   ],
   "source": [
    "!hdfs dfs -ls /user/hive/warehouse/"
   ]
  },
  {
   "cell_type": "code",
   "execution_count": 53,
   "metadata": {},
   "outputs": [
    {
     "name": "stdout",
     "output_type": "stream",
     "text": [
      "Found 5 items\r\n",
      "-rw-r--r--   2 root supergroup          0 2021-07-16 14:48 /user/hive/warehouse/covid_total/_SUCCESS\r\n",
      "-rw-r--r--   2 root supergroup    2361578 2021-07-16 14:48 /user/hive/warehouse/covid_total/part-00000-7a858c73-b143-4b9b-8757-1395a0aee288-c000.snappy.parquet\r\n",
      "-rw-r--r--   2 root supergroup    3842760 2021-07-16 14:48 /user/hive/warehouse/covid_total/part-00001-7a858c73-b143-4b9b-8757-1395a0aee288-c000.snappy.parquet\r\n",
      "-rw-r--r--   2 root supergroup    4998638 2021-07-16 14:48 /user/hive/warehouse/covid_total/part-00002-7a858c73-b143-4b9b-8757-1395a0aee288-c000.snappy.parquet\r\n",
      "-rw-r--r--   2 root supergroup    3857992 2021-07-16 14:48 /user/hive/warehouse/covid_total/part-00003-7a858c73-b143-4b9b-8757-1395a0aee288-c000.snappy.parquet\r\n"
     ]
    }
   ],
   "source": [
    "!hdfs dfs -ls /user/hive/warehouse/covid_total"
   ]
  },
  {
   "cell_type": "markdown",
   "metadata": {},
   "source": [
    "### 03 - Visualização dos dados principais"
   ]
  },
  {
   "cell_type": "code",
   "execution_count": 54,
   "metadata": {},
   "outputs": [
    {
     "name": "stdout",
     "output_type": "stream",
     "text": [
      "+------+----------+----------------+--------------+----------+---------------+-----------+----------------+---------------------+----------+-----------+----------+\n",
      "|regiao|      data|populacaoTCU2019|casosAcumulado|casosNovos|obitosAcumulado|obitosNovos|Recuperadosnovos|emAcompanhamentoNovos|incidencia|mortalidade|letalidade|\n",
      "+------+----------+----------------+--------------+----------+---------------+-----------+----------------+---------------------+----------+-----------+----------+\n",
      "|Brasil|2021-07-06|       210147125|      18855015|     62504|         526892|       1780|        17262646|              1065477|    8972.3|      250.7|       2.8|\n",
      "+------+----------+----------------+--------------+----------+---------------+-----------+----------------+---------------------+----------+-----------+----------+\n",
      "\n"
     ]
    }
   ],
   "source": [
    "# selecionando o dia 06/07/2021 que contém a última atualização com os totais dos dados\n",
    "\n",
    "total_max_covid = total_covid_df.where(col(\"data\") == \"2021-07-06\").limit(1)\n",
    "\n",
    "total_max_covid.show()"
   ]
  },
  {
   "cell_type": "markdown",
   "metadata": {},
   "source": [
    "### 04 - Salvando o Total de Casos Recuperados e Em Acompanhamento numa Tabela Hive"
   ]
  },
  {
   "cell_type": "code",
   "execution_count": 55,
   "metadata": {},
   "outputs": [],
   "source": [
    "recuperados_acompanhamento = total_max_covid.select(col(\"Recuperadosnovos\").alias(\"Recuperados\"), col(\"emAcompanhamentoNovos\").alias(\"Acompanhamento\"))"
   ]
  },
  {
   "cell_type": "code",
   "execution_count": 56,
   "metadata": {},
   "outputs": [
    {
     "name": "stdout",
     "output_type": "stream",
     "text": [
      "root\n",
      " |-- Recuperados: long (nullable = true)\n",
      " |-- Acompanhamento: long (nullable = true)\n",
      "\n",
      "+-----------+--------------+\n",
      "|Recuperados|Acompanhamento|\n",
      "+-----------+--------------+\n",
      "|   17262646|       1065477|\n",
      "+-----------+--------------+\n",
      "\n"
     ]
    }
   ],
   "source": [
    "recuperados_acompanhamento.printSchema()\n",
    "\n",
    "recuperados_acompanhamento.show()"
   ]
  },
  {
   "cell_type": "code",
   "execution_count": 57,
   "metadata": {},
   "outputs": [],
   "source": [
    "# salvando da forma padrão do Hive\n",
    "recuperados_acompanhamento.write.saveAsTable(\"covid_recup_acomp\", mode=\"overwrite\")"
   ]
  },
  {
   "cell_type": "code",
   "execution_count": 58,
   "metadata": {},
   "outputs": [
    {
     "name": "stdout",
     "output_type": "stream",
     "text": [
      "Found 4 items\r\n",
      "drwxr-xr-x   - root supergroup          0 2021-07-16 14:08 /user/hive/warehouse/covid_df\r\n",
      "drwxr-xr-x   - root supergroup          0 2021-07-16 15:40 /user/hive/warehouse/covid_recup_acomp\r\n",
      "drwxr-xr-x   - root supergroup          0 2021-07-16 14:48 /user/hive/warehouse/covid_total\r\n",
      "drwxr-xr-x   - root supergroup          0 2021-07-09 17:50 /user/hive/warehouse/juros\r\n"
     ]
    }
   ],
   "source": [
    "# diretórios do HDFS\n",
    "!hdfs dfs -ls /user/hive/warehouse/"
   ]
  },
  {
   "cell_type": "code",
   "execution_count": 59,
   "metadata": {},
   "outputs": [
    {
     "name": "stdout",
     "output_type": "stream",
     "text": [
      "Found 2 items\r\n",
      "-rw-r--r--   2 root supergroup          0 2021-07-16 15:40 /user/hive/warehouse/covid_recup_acomp/_SUCCESS\r\n",
      "-rw-r--r--   2 root supergroup        724 2021-07-16 15:40 /user/hive/warehouse/covid_recup_acomp/part-00000-907b05b0-cbb1-413b-aa3e-77aa1aca0857-c000.snappy.parquet\r\n"
     ]
    }
   ],
   "source": [
    "# diretório criado com arquivo parquet e compressão snappy\n",
    "!hdfs dfs -ls /user/hive/warehouse/covid_recup_acomp/"
   ]
  },
  {
   "cell_type": "markdown",
   "metadata": {},
   "source": [
    "### 05 - Salvando o Total Geral de Casos Confirmados, Novos Casos e Incidência de Casos por 100 mil habitantes no formato parquet e compressão snappy"
   ]
  },
  {
   "cell_type": "code",
   "execution_count": 60,
   "metadata": {},
   "outputs": [],
   "source": [
    "casos_confirmados = total_max_covid.select(col(\"casosAcumulado\").alias(\"Total\"), col(\"casosNovos\").alias(\"Novos\"), col(\"incidencia\").alias(\"Incidência\"))"
   ]
  },
  {
   "cell_type": "code",
   "execution_count": 61,
   "metadata": {},
   "outputs": [
    {
     "name": "stdout",
     "output_type": "stream",
     "text": [
      "+--------+-----+----------+\n",
      "|   Total|Novos|Incidência|\n",
      "+--------+-----+----------+\n",
      "|18855015|62504|    8972.3|\n",
      "+--------+-----+----------+\n",
      "\n"
     ]
    }
   ],
   "source": [
    "casos_confirmados.show()"
   ]
  },
  {
   "cell_type": "code",
   "execution_count": 62,
   "metadata": {},
   "outputs": [
    {
     "name": "stdout",
     "output_type": "stream",
     "text": [
      "root\n",
      " |-- Total: long (nullable = true)\n",
      " |-- Novos: long (nullable = true)\n",
      " |-- Incidência: float (nullable = true)\n",
      "\n"
     ]
    }
   ],
   "source": [
    "casos_confirmados.printSchema()"
   ]
  },
  {
   "cell_type": "code",
   "execution_count": 63,
   "metadata": {},
   "outputs": [],
   "source": [
    "# salvando no formato parquet com compressão snappy\n",
    "casos_confirmados.write.parquet(\"/user/hive/warehouse/casos_confirmados\", mode=\"overwrite\")"
   ]
  },
  {
   "cell_type": "code",
   "execution_count": 64,
   "metadata": {},
   "outputs": [
    {
     "name": "stdout",
     "output_type": "stream",
     "text": [
      "Found 5 items\n",
      "drwxr-xr-x   - root supergroup          0 2021-07-16 16:05 /user/hive/warehouse/casos_confirmados\n",
      "drwxr-xr-x   - root supergroup          0 2021-07-16 14:08 /user/hive/warehouse/covid_df\n",
      "drwxr-xr-x   - root supergroup          0 2021-07-16 15:40 /user/hive/warehouse/covid_recup_acomp\n",
      "drwxr-xr-x   - root supergroup          0 2021-07-16 14:48 /user/hive/warehouse/covid_total\n",
      "drwxr-xr-x   - root supergroup          0 2021-07-09 17:50 /user/hive/warehouse/juros\n"
     ]
    }
   ],
   "source": [
    "# diretórios do HDFS\n",
    "!hdfs dfs -ls /user/hive/warehouse/"
   ]
  },
  {
   "cell_type": "code",
   "execution_count": 9,
   "metadata": {},
   "outputs": [
    {
     "name": "stdout",
     "output_type": "stream",
     "text": [
      "+------------+------------+----------+-----------+\n",
      "|Total_Óbitos|Novos_Óbitos|Letalidade|Mortalidade|\n",
      "+------------+------------+----------+-----------+\n",
      "|      526892|        1780|       2.8|      250.7|\n",
      "+------------+------------+----------+-----------+\n",
      "\n"
     ]
    }
   ],
   "source": [
    "obitos = spark.read.parquet(\"/user/hive/warehouse/obitos\")\n",
    "obitos.show(10)"
   ]
  }
 ],
 "metadata": {
  "kernelspec": {
   "display_name": "PySpark",
   "language": "python",
   "name": "pyspark"
  },
  "language_info": {
   "codemirror_mode": {
    "name": "ipython",
    "version": 3
   },
   "file_extension": ".py",
   "mimetype": "text/x-python",
   "name": "python",
   "nbconvert_exporter": "python",
   "pygments_lexer": "ipython3",
   "version": "3.6.10"
  }
 },
 "nbformat": 4,
 "nbformat_minor": 2
}
